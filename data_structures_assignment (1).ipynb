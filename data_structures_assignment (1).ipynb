{
  "nbformat": 4,
  "nbformat_minor": 0,
  "metadata": {
    "colab": {
      "provenance": []
    },
    "kernelspec": {
      "name": "python3",
      "display_name": "Python 3"
    },
    "language_info": {
      "name": "python"
    }
  },
  "cells": [
    {
      "cell_type": "markdown",
      "source": [
        "# **        DATA STRUCTURES ASSIGNMENT**\n",
        "--------------------------------------------------------------------------------\n",
        "\n",
        "1. What are data structures, and why are they important?\n",
        "-  Data structures are a specific way of organizing data in a well organized  format on a computer so that the information can be organized, processed, stored, and retrieved quickly and effectively.\n",
        "- It is important because\n",
        "    - they make the code more efficient\n",
        "    - and they make the code easier to understand.\n",
        "    - Simplify data manipulation (adding, removing, modifying elements)\n",
        "    - Conserve memory usage\n",
        "-----------------------------------------------------------------\n",
        "2. Explain the difference between mutable and immutable data types with examples.\n",
        "-  Mutable data types in which the data can be modified by adding or removing the element .\n",
        "  -  for example: List , set and dictionaries.\n",
        "- Immutable data types in which the data cannot be modified by adding or removing the element.\n",
        "  -  for example: Strings and Tuples\n",
        "-----------------------------------------------------------------\n",
        "3. What are the main differences between lists and tuples in Python?\n",
        "-  Lists are mutable which means the values are editable even after the list is being created, where as, Tuples are immutable which means tuples cannot be modified by adding or removing element.\n",
        "-----------------------------------------------------------------\n",
        "4. Describe how dictionaries store data.\n",
        "-  Dictionaries are key-value pairs that allow you to store and retrieve data based on a 'unique key'. The keys must be immutable or unique, such as strings or numbers. Dictionaries are useful for storing data that needs to be accessed quickly and efficiently. syntax:\n",
        "\n",
        "        dict = {\"name\":\"Tiger\", \"email\":\"tiger@yahoo.com\", \"contact\": 4594}\n",
        "       #key must be unique in this key are; name, email ,contact.\n",
        "-----------------------------------------------------------------\n",
        "5.  Why might you use a set instead of a list in Python?\n",
        "-  Use Set when you want the content should be unique and order of content doesn't matter, while List is used when you need to maintain the order of elements and allow duplicates.\n",
        "-----------------------------------------------------------------\n",
        "6. What is a string in Python, and how is it different from a list?\n",
        "-  String is a sequence of data. The main difference is that, String is a immutable data type while list is mutable. Stings data are to be stroed within single(' ') or double quote (\" \").\n",
        "-----------------------------------------------------------------\n",
        "7.  How do tuples ensure data integrity in Python?\n",
        "-  Tuples are immutable to ensure that their contents remains constant. which means the value will remain unchanged.\n",
        "-----------------------------------------------------------------\n",
        "8. What is a hash table, and how does it relate to dictionaries in Python?\n",
        "-  A Hash Table in Python is nothing but a data structure where data is stored in an proper manner. In hash tables, data is stored in an array format, with every data value having an exclusive or unique index value.\n",
        "-----------------------------------------------------------------\n",
        "9. Can lists contain different data types in Python?\n",
        "-  Yes, lists can contain the different data types in python. Like, string , integer, bollean, and so on.\n",
        "-----------------------------------------------------------------\n",
        "10.  Explain why strings are immutable in Python.\n",
        "-  As we know onces the string value is being assigned to the varible the value cannot be changed or modifed because the value is being assigned in the varible or memory of the system.\n",
        "-----------------------------------------------------------------\n",
        "11.What advantages do dictionaries offer over lists for certain tasks?\n",
        "-  The dictionaries stores data as key value pair which helps in retreving the data more effectively.\n",
        "- where as in lists the data retreiving the index postion has to be given for getting the data fromn the list\n",
        "          #in dictionaries the retreving of data by using the key i.e. name\n",
        "          dic = {\"name\":\"Tiger\", \"email\":\"Tiger@gmail.com\", \"contact\": 4598}\n",
        "          dic['name']\n",
        "          \n",
        "          #in lists the retreving of data by using the index no.\n",
        "          list1= [1, 2, 3, 4]\n",
        "          list[0]\n",
        "-----------------------------------------------------------------\n",
        "12. Describe a scenario where using a tuple would be preferable over a list.\n",
        "-  Tuples can be used in the scenario where the value has be remained unchanged\n",
        "\n",
        "For example\n",
        "- employee id\n",
        "- roll no\n",
        "- account number and many more.\n",
        "-----------------------------------------------------------------\n",
        "13.How do sets handle duplicate values in Python?\n",
        "-  Set function is being used to remove duplicate values in python.\n",
        "          syntax:\n",
        "          items = ['apple', 'banana', 'apple', 'onion', 'apple']\n",
        "          set1 = (set(items))\n",
        "          print(set1)\n",
        "-----------------------------------------------------------------\n",
        "14.How does the “in” keyword work differently for lists and dictionaries?\n",
        "-  \"in\" keyword in list are usefull to find whether the element is present in the list or not\n",
        "          example:\n",
        "          my_list = [\"Apple\", \"Banana\", \"orange\"]\n",
        "          my_list\n",
        "          'Apple' in my_list\n",
        "          \n",
        "          output:\n",
        "                 True\n",
        "- \"in\" operator in dictonaries are used in zip function it tells you whether something appears or not as a key in the dictionary\n",
        "          example:\n",
        "          students = [\"sony\", \"Aditi\", \"charu\"]\n",
        "          marks = [80, 90, 100]\n",
        "          {student:marks for student, marks in zip(students, marks)}\n",
        "-----------------------------------------------------------------\n",
        "15. Can you modify the elements of a tuple? Explain why or why not.\n",
        "- No, we can not add, remove or modify the elements of a tuple once it is created , because the tuples are immutable data type and once the value being assigned it cannot be modified\n",
        "-----------------------------------------------------------------\n",
        "16.What is a nested dictionary, and give an example of its use case?\n",
        "-  In Python, a nested dictionary is a dictionary inside a dictionary. It's a collection of dictionaries into one single dictionary.\n",
        "- the most popular use case is in:\n",
        "    - Restaurants\n",
        "    - Offices\n",
        "    - Schools\n",
        "    - Big companies\n",
        "\n",
        "            For example:\n",
        "            student = {\n",
        "              'S1': {'name': 'sony', 'age': 16, 'contact': '3899'},\n",
        "              'S2': {'name': 'Aditi', 'age': 17, 'contact': '2349'},\n",
        "              'S3': {'name': 'charu', 'age': 19, 'contact': '2393'}\n",
        "              }\n",
        "            student['S1']\n",
        "\n",
        "            output:\n",
        "                  {'name': 'sony', 'age': 16, 'contact': '3899'}\n",
        "-----------------------------------------------------------------\n",
        "17.Describe the time complexity of accessing elements in a dictionary.\n",
        "-  The time complexity of inserting a new element into a Python dictionary is typically O(1). This means that the time taken to insert an element into a dictionary is constant, regardless of the size of the dictionary. This is because Python dictionaries use a hash table data structure, which allows for fast insertion, retrieval, and deletion of key-value pairs.\n",
        "-----------------------------------------------------------------\n",
        "18.In what situations are lists preferred over dictionaries?\n",
        "-  If you need an ordered collection, like a sequence of user actions, then lists are useful. On the other hand, when you need quick look-ups to user data, dictionaries are invaluable.\n",
        "- Elements from the list can be accessed using the index, while the elements of the dictionary can be accessed using keys.\n",
        "-----------------------------------------------------------------19. Why are dictionaries considered unordered, and how does that affect data retrieval?\n",
        "-  Dictionary is a data structure which is a important value structure, optimized for fast storage and recovery based on key. In python, dictionaries are unordered because Python dictionaries are not programmed to be in order, as simple as that.\n",
        "-----------------------------------------------------------------\n",
        "Q20.Explain the difference between a list and a dictionary in terms of data retrieval.\n",
        "- A list is an ordered collection of items, whereas a dictionary is an unordered data collection in a key-value pair. Elements from the list can be accessed using the index, while the elements of the dictionary can be accessed using keys.\n",
        "          For example:\n",
        "            #in dictionaries the retreving of data by using the key i.e. name\n",
        "              dic = {\"name\":\"Tiger\", \"email\":\"tiger@gmail.com\", \"contact\": 4598}\n",
        "              dic['name']\n",
        "         \n",
        "          #in lists the retreving of data by using the index no.\n",
        "            list1= [1, 2, 3, 4]\n",
        "            list[0]"
      ],
      "metadata": {
        "id": "sbVZc-NVeXfP"
      }
    },
    {
      "cell_type": "code",
      "source": [
        "'''\n",
        "1. Write a code to create a string with your name and print it\n",
        "'''\n",
        "# Creating a string with my name\n",
        "my_name = \"Reshma\"\n",
        "\n",
        "# Printing the string\n",
        "print(\"My name is:\", my_name)"
      ],
      "metadata": {
        "colab": {
          "base_uri": "https://localhost:8080/"
        },
        "id": "nnnC4nSj5n_U",
        "outputId": "d5153375-55b5-47b8-e00c-1a050202a220"
      },
      "execution_count": 2,
      "outputs": [
        {
          "output_type": "stream",
          "name": "stdout",
          "text": [
            "My name is: Reshma\n"
          ]
        }
      ]
    },
    {
      "cell_type": "code",
      "source": [
        "'''\n",
        "2. Write a code to find the length of the string \"Hello World\"\n",
        "'''\n",
        "# Define the string\n",
        "text = \"Hello World\"\n",
        "\n",
        "# Find and print the length of the string\n",
        "print(\"Length of the string is:\", len(text))\n"
      ],
      "metadata": {
        "colab": {
          "base_uri": "https://localhost:8080/"
        },
        "id": "roIGq0cU6JH4",
        "outputId": "415d3ba1-5b73-4873-de8e-c4bc050694f7"
      },
      "execution_count": 3,
      "outputs": [
        {
          "output_type": "stream",
          "name": "stdout",
          "text": [
            "Length of the string is: 11\n"
          ]
        }
      ]
    },
    {
      "cell_type": "code",
      "source": [
        "'''\n",
        " 3.Write a code to slice the first 3 characters from the string \"Python Programming\"\n",
        "'''\n",
        "# Define the string\n",
        "text = \"Python Programming\"\n",
        "\n",
        "# Slice the first 3 characters\n",
        "sliced_text = text[:3]\n",
        "\n",
        "# Print the result\n",
        "print(\"First 3 characters:\", sliced_text)\n"
      ],
      "metadata": {
        "colab": {
          "base_uri": "https://localhost:8080/"
        },
        "id": "e1SouUOz6YxN",
        "outputId": "f5e836b5-fe70-4321-cb71-1ce2be4677cc"
      },
      "execution_count": 4,
      "outputs": [
        {
          "output_type": "stream",
          "name": "stdout",
          "text": [
            "First 3 characters: Pyt\n"
          ]
        }
      ]
    },
    {
      "cell_type": "code",
      "source": [
        "'''\n",
        "4. Write a code to convert the string \"hello\" to uppercase\n",
        "'''\n",
        "# Define the string\n",
        "text = \"hello\"\n",
        "\n",
        "# Convert to uppercase\n",
        "uppercase_text = text.upper()\n",
        "\n",
        "# Print the result\n",
        "print(\"Uppercase:\", uppercase_text)"
      ],
      "metadata": {
        "colab": {
          "base_uri": "https://localhost:8080/"
        },
        "id": "rmMAbWBG64Jf",
        "outputId": "dd130e57-d0d1-4ff8-ea47-0bca41c20f9b"
      },
      "execution_count": 5,
      "outputs": [
        {
          "output_type": "stream",
          "name": "stdout",
          "text": [
            "Uppercase: HELLO\n"
          ]
        }
      ]
    },
    {
      "cell_type": "code",
      "source": [
        "'''\n",
        "5. Write a code to replace the word \"apple\" with \"orange\" in the string \"I like apple\"\n",
        "'''\n",
        "# Define the string\n",
        "text = \"I like apple\"\n",
        "\n",
        "# Replace \"apple\" with \"orange\"\n",
        "new_text = text.replace(\"apple\", \"orange\")\n",
        "\n",
        "# Print the result\n",
        "print(\"Updated string:\", new_text)"
      ],
      "metadata": {
        "colab": {
          "base_uri": "https://localhost:8080/"
        },
        "id": "6d6iqgV07ECa",
        "outputId": "5450b21c-3cab-4fd7-8c81-c3c1f39ef5bb"
      },
      "execution_count": 6,
      "outputs": [
        {
          "output_type": "stream",
          "name": "stdout",
          "text": [
            "Updated string: I like orange\n"
          ]
        }
      ]
    },
    {
      "cell_type": "code",
      "source": [
        "'''\n",
        "6. Write a code to create a list with numbers 1 to 5 and print it\n",
        "'''\n",
        "# Create a list with numbers from 1 to 5\n",
        "numbers = [1, 2, 3, 4, 5]\n",
        "\n",
        "# Print the list\n",
        "print(\"List of numbers:\", numbers)"
      ],
      "metadata": {
        "colab": {
          "base_uri": "https://localhost:8080/"
        },
        "id": "39KJEN-B7VU6",
        "outputId": "a1c6237f-7029-4362-8740-ba723e6868b6"
      },
      "execution_count": 7,
      "outputs": [
        {
          "output_type": "stream",
          "name": "stdout",
          "text": [
            "List of numbers: [1, 2, 3, 4, 5]\n"
          ]
        }
      ]
    },
    {
      "cell_type": "code",
      "source": [
        "'''\n",
        "7. Write a code to append the number 10 to the list [1, 2, 3, 4]\n",
        "'''\n",
        "# Define the list\n",
        "numbers = [1, 2, 3, 4]\n",
        "\n",
        "# Append the number 10\n",
        "numbers.append(10)\n",
        "\n",
        "# Print the updated list\n",
        "print(\"Updated list:\", numbers)"
      ],
      "metadata": {
        "colab": {
          "base_uri": "https://localhost:8080/"
        },
        "id": "Ndsa-4o87j53",
        "outputId": "581f034e-67b6-487a-d7ee-00e4c122966c"
      },
      "execution_count": 8,
      "outputs": [
        {
          "output_type": "stream",
          "name": "stdout",
          "text": [
            "Updated list: [1, 2, 3, 4, 10]\n"
          ]
        }
      ]
    },
    {
      "cell_type": "code",
      "source": [
        "'''\n",
        "8. Write a code to remove the number 3 from the list [1, 2, 3, 4, 5]\n",
        "'''\n",
        "# Define the list\n",
        "numbers = [1, 2, 3, 4, 5]\n",
        "\n",
        "# Remove the number 3\n",
        "numbers.remove(3)\n",
        "\n",
        "# Print the updated list\n",
        "print(\"Updated list:\", numbers)"
      ],
      "metadata": {
        "colab": {
          "base_uri": "https://localhost:8080/"
        },
        "id": "nO08ruhc7yKY",
        "outputId": "50e88365-1722-4f42-dcad-e3f64a60ba4c"
      },
      "execution_count": 9,
      "outputs": [
        {
          "output_type": "stream",
          "name": "stdout",
          "text": [
            "Updated list: [1, 2, 4, 5]\n"
          ]
        }
      ]
    },
    {
      "cell_type": "code",
      "source": [
        "'''\n",
        "9. Write a code to access the second element in the list ['a', 'b', 'c', 'd']\n",
        "'''\n",
        "# Define the list\n",
        "letters = ['a', 'b', 'c', 'd']\n",
        "\n",
        "# Access the second element (index 1)\n",
        "second_element = letters[1]\n",
        "\n",
        "# Print the second element\n",
        "print(\"Second element:\", second_element)"
      ],
      "metadata": {
        "colab": {
          "base_uri": "https://localhost:8080/"
        },
        "id": "7k1pxKmG8CrC",
        "outputId": "997477aa-5bf6-42ed-dcb5-be49de763b91"
      },
      "execution_count": 10,
      "outputs": [
        {
          "output_type": "stream",
          "name": "stdout",
          "text": [
            "Second element: b\n"
          ]
        }
      ]
    },
    {
      "cell_type": "code",
      "source": [
        "'''\n",
        "10.  Write a code to reverse the list [10, 20, 30, 40, 50].\n",
        "'''\n",
        " #Define list\n",
        "numbers = [10, 20, 30, 40, 50]\n",
        "\n",
        "# Reverse list\n",
        "numbers.reverse()\n",
        "\n",
        "# Print  reversed list\n",
        "print(\"Reversed list:\", numbers)"
      ],
      "metadata": {
        "colab": {
          "base_uri": "https://localhost:8080/"
        },
        "id": "lLum84I18QG7",
        "outputId": "ddc5cc8d-fc38-4fa5-fe2c-16076949acd2"
      },
      "execution_count": 13,
      "outputs": [
        {
          "output_type": "stream",
          "name": "stdout",
          "text": [
            "Reversed list: [50, 40, 30, 20, 10]\n"
          ]
        }
      ]
    },
    {
      "cell_type": "code",
      "source": [
        "'''\n",
        "11. Write a code to create a tuple with the elements 100, 200, 300 and print it\n",
        "'''\n",
        "\n",
        "#creating tuple\n",
        "my_tuple = (100,200, 300)\n",
        "\n",
        "# print tuple\n",
        "print(my_tuple)\n"
      ],
      "metadata": {
        "colab": {
          "base_uri": "https://localhost:8080/"
        },
        "outputId": "009dcb7b-f61d-42b7-d588-a34580c38c39",
        "id": "wMG0Wnk2sopq"
      },
      "execution_count": null,
      "outputs": [
        {
          "output_type": "stream",
          "name": "stdout",
          "text": [
            "(100, 200, 300)\n"
          ]
        }
      ]
    },
    {
      "cell_type": "code",
      "source": [],
      "metadata": {
        "id": "7MmmN4Sist1e"
      },
      "execution_count": null,
      "outputs": []
    },
    {
      "cell_type": "code",
      "source": [
        "'''\n",
        "12. Write a code to access the second-to-last element of the tuple ('red', 'green', 'blue', 'yellow').\n",
        "'''\n",
        "# Define the tuple\n",
        "colors = ('red', 'green', 'blue', 'yellow')\n",
        "\n",
        "# Access the second-to-last element using negative indexing\n",
        "second_to_last = colors[-2]\n",
        "\n",
        "# Print the result\n",
        "print(\"Second-to-last element:\", second_to_last)"
      ],
      "metadata": {
        "colab": {
          "base_uri": "https://localhost:8080/"
        },
        "outputId": "9bcfed4e-3d25-4c6e-aea5-73d96366a41a",
        "id": "2ZHabWaFsuOX"
      },
      "execution_count": null,
      "outputs": [
        {
          "output_type": "stream",
          "name": "stdout",
          "text": [
            "Second-to-last element: blue\n"
          ]
        }
      ]
    },
    {
      "cell_type": "code",
      "source": [
        "'''\n",
        "13. Write a code to find the minimum number in the tuple (10, 20, 5, 15).\n",
        "'''\n",
        "#Define the tuple\n",
        "numbers = (10,20, 5, 15)\n",
        "\n",
        "#Find the minimum number in the tuple\n",
        "min_number = min(numbers)\n",
        "\n",
        "#Print the minimum number\n",
        "print(\"The minimum number in the tuple is:\", min_number)"
      ],
      "metadata": {
        "colab": {
          "base_uri": "https://localhost:8080/"
        },
        "id": "XWX8MxWTcg1M",
        "outputId": "67528fa8-5623-49ce-b603-3b50f18f4c1f"
      },
      "execution_count": null,
      "outputs": [
        {
          "output_type": "stream",
          "name": "stdout",
          "text": [
            "The minimum number in the tuple is: 5\n"
          ]
        }
      ]
    },
    {
      "cell_type": "code",
      "source": [
        "'''\n",
        "14. Write a code to find the index of the element \"cat\" in the tuple ('dog', 'cat', 'rabbit')\n",
        "'''\n",
        "\n",
        "#Define the tuple\n",
        "animals = (\"dog\",\"cat\",\"rabbit\")\n",
        "\n",
        "#Find the index of cat\n",
        "cat_index = animals.index(\"cat\")\n",
        "\n",
        "#print the result\n",
        "print(\"index of cat:\",cat_index)\n",
        "\n",
        "\n"
      ],
      "metadata": {
        "colab": {
          "base_uri": "https://localhost:8080/"
        },
        "id": "IjjdKEHmdxUi",
        "outputId": "7322ce93-2fd7-44b1-d8fe-853f3bf8f8fc"
      },
      "execution_count": null,
      "outputs": [
        {
          "output_type": "stream",
          "name": "stdout",
          "text": [
            "index of cat: 1\n"
          ]
        }
      ]
    },
    {
      "cell_type": "code",
      "source": [
        "'''\n",
        "15. Write a code to create a tuple containing three different fruits and check if \"kiwi\" is in it.\n",
        "'''\n",
        "\n",
        "#Define the tuple\n",
        "fruits = (\"grapes\",\"kiwi\",\"orange\")\n",
        "\n",
        "#check if kiwi is present in the tuple\n",
        "if \"kiwi\" in fruits:\n",
        "  print(\"kiwi is in the tuple\")\n",
        "else:\n",
        "  print(\"kiwi is not in the tuple\")"
      ],
      "metadata": {
        "colab": {
          "base_uri": "https://localhost:8080/"
        },
        "id": "ICatOX0Ietj_",
        "outputId": "e53988af-2b3d-437e-bb52-bc15a28e5fab"
      },
      "execution_count": null,
      "outputs": [
        {
          "output_type": "stream",
          "name": "stdout",
          "text": [
            "kiwi is in the tuple\n"
          ]
        }
      ]
    },
    {
      "cell_type": "code",
      "source": [
        "'''\n",
        "16. Write a code to create a set with the elements 'a', 'b', 'c' and print it.\n",
        "'''\n",
        "\n",
        "#create the set\n",
        "my_set = {'a','b','c'}\n",
        "\n",
        "#print the set\n",
        "print(my_set)\n",
        "\n",
        "\n"
      ],
      "metadata": {
        "colab": {
          "base_uri": "https://localhost:8080/"
        },
        "id": "3hb6IX7zfuNd",
        "outputId": "052f7d36-4ba5-4292-c1ad-899e9ffb18be"
      },
      "execution_count": null,
      "outputs": [
        {
          "output_type": "stream",
          "name": "stdout",
          "text": [
            "{'c', 'a', 'b'}\n"
          ]
        }
      ]
    },
    {
      "cell_type": "code",
      "source": [
        "'''\n",
        "17. Write a code to clear all elements from the set {1, 2, 3, 4, 5}.\n",
        "'''\n",
        "#create the set\n",
        "numbers = {1,2,3,4,5,}\n",
        "\n",
        "\n",
        "#clear all elements in set\n",
        "numbers.clear()\n",
        "\n",
        "#print the cleared set\n",
        "print(\"set after clearing numbers\",numbers)\n"
      ],
      "metadata": {
        "colab": {
          "base_uri": "https://localhost:8080/"
        },
        "id": "I7lKTYkQgg28",
        "outputId": "16f5251b-9ea5-4b65-febd-3eae945ae5a8"
      },
      "execution_count": null,
      "outputs": [
        {
          "output_type": "stream",
          "name": "stdout",
          "text": [
            "set after clearing numbers set()\n"
          ]
        }
      ]
    },
    {
      "cell_type": "code",
      "source": [
        "'''\n",
        "18. Write a code to remove the element 4 from the set {1, 2, 3, 4}\n",
        "'''\n",
        "#create the set\n",
        "numbers = {1,2,3,4}\n",
        "\n",
        "#removing the number\n",
        "numbers.remove(4)\n",
        "\n",
        "#print the set\n",
        "print(\"The set after removing the number4:\",numbers)"
      ],
      "metadata": {
        "colab": {
          "base_uri": "https://localhost:8080/"
        },
        "id": "uLVwffflg-Qs",
        "outputId": "0eba7a55-4cbe-472c-c18c-936964a0edac"
      },
      "execution_count": null,
      "outputs": [
        {
          "output_type": "stream",
          "name": "stdout",
          "text": [
            "The set after removing the number4: {1, 2, 3}\n"
          ]
        }
      ]
    },
    {
      "cell_type": "code",
      "source": [
        "'''\n",
        "19. Write a code to find the union of two sets {1, 2, 3} and {3, 4, 5}\n",
        "'''\n",
        "\n",
        "#Define the set\n",
        "set1 = {1,2,3}\n",
        "set2 = {3,4,5}\n",
        "\n",
        "#Find the union of sets\n",
        "union_set= set1.union(set2)\n",
        "\n",
        "#print the union of sets\n",
        "print(\"The union of the set1, set2:\",union_set)"
      ],
      "metadata": {
        "colab": {
          "base_uri": "https://localhost:8080/"
        },
        "id": "1j-Vimi-iQ__",
        "outputId": "378ab3c2-2c33-4f31-fc55-78a1ba4ff516"
      },
      "execution_count": null,
      "outputs": [
        {
          "output_type": "stream",
          "name": "stdout",
          "text": [
            "the union of the set1, set2: {1, 2, 3, 4, 5}\n"
          ]
        }
      ]
    },
    {
      "cell_type": "code",
      "source": [
        "'''\n",
        "20. Write a code to find the intersection of two sets {1, 2, 3} and {2, 3, 4}.\n",
        "'''\n",
        "\n",
        "#Define the set\n",
        "set1 = {1,2,3}\n",
        "set2 = {2,3,4}\n",
        "\n",
        "#Find the intersection\n",
        "intersection_set = set1.intersection(set2)\n",
        "\n",
        "#print the intersection of two sets\n",
        "print(\"The intersection of te two sets:\",intersection_set)"
      ],
      "metadata": {
        "colab": {
          "base_uri": "https://localhost:8080/"
        },
        "id": "QR_GcFR8jyTN",
        "outputId": "375f786a-2f4e-4dd2-9acc-133d16b9b8b3"
      },
      "execution_count": null,
      "outputs": [
        {
          "output_type": "stream",
          "name": "stdout",
          "text": [
            "The intersection of te two sets: {2, 3}\n"
          ]
        }
      ]
    },
    {
      "cell_type": "code",
      "source": [
        "'''\n",
        "21. Write a code to create a dictionary with the keys \"name\", \"age\", and \"city\", and print it\n",
        "'''\n",
        "\n",
        "#create the dictionary\n",
        "person = {\"name\": \"Tiger\",\"age\": 34, \"city\": \"Thailand\"}\n",
        "\n",
        "#print the dictionary\n",
        "print(person)\n",
        "\n"
      ],
      "metadata": {
        "colab": {
          "base_uri": "https://localhost:8080/"
        },
        "id": "XIO0VHA1kxrI",
        "outputId": "1fde4e93-bd48-4e65-94b9-91308c02d6a1"
      },
      "execution_count": null,
      "outputs": [
        {
          "output_type": "stream",
          "name": "stdout",
          "text": [
            "{'name': 'Tiger', 'age': 34, 'city': 'Thailand'}\n"
          ]
        }
      ]
    },
    {
      "cell_type": "code",
      "source": [
        "'''\n",
        "22. Write a code to add a new key-value pair \"country\": \"USA\" to the dictionary {'name': 'John', 'age': 25}.\n",
        "'''\n",
        "\n",
        "#original dictionary\n",
        "person_details = {\"name\": \"John\", \"age\": 25}\n",
        "\n",
        "#add new key-value pair\n",
        "person_details[\"country\"] = \"USA\"\n",
        "\n",
        "#print\n",
        "print (person_details)"
      ],
      "metadata": {
        "colab": {
          "base_uri": "https://localhost:8080/"
        },
        "id": "gApbiHjslrkf",
        "outputId": "b25e6aab-6fab-4eb7-96a9-3ada8369e151"
      },
      "execution_count": null,
      "outputs": [
        {
          "output_type": "stream",
          "name": "stdout",
          "text": [
            "{'name': 'John', 'age': 25, 'country': 'USA'}\n"
          ]
        }
      ]
    },
    {
      "cell_type": "code",
      "source": [
        "'''\n",
        "23. Write a code to access the value associated with the key \"name\" in the dictionary {'name': 'Alice', 'age': 30}.\n",
        "'''\n",
        "#Define the Dictionary\n",
        "person = {\"name\":\"Alice\",\"age\":30}\n",
        "\n",
        "#Acess the value of the name key\n",
        "name_value = person['name']\n",
        "\n",
        "#print\n",
        "print(\"name:\",name_value)\n"
      ],
      "metadata": {
        "colab": {
          "base_uri": "https://localhost:8080/"
        },
        "id": "n1y62vnCm8ne",
        "outputId": "a24622c1-c21a-4294-e204-8e6a7ce825e3"
      },
      "execution_count": null,
      "outputs": [
        {
          "output_type": "stream",
          "name": "stdout",
          "text": [
            "name: Alice\n"
          ]
        }
      ]
    },
    {
      "cell_type": "code",
      "source": [
        "\n",
        "'''\n",
        "24. Write a code to remove the key \"age\" from the dictionary {'name': 'Bob', 'age': 22, 'city': 'New York'}.\n",
        "'''\n",
        "#create the Dicitionary\n",
        "person_details = {\"name\":\"Bob\",\"age\":22,\"city\":\"New york\"}\n",
        "\n",
        "#Remove the key age\n",
        "del person_details['age']\n",
        "\n",
        "#print\n",
        "print(person_details)\n",
        "\n",
        "\n",
        "\n"
      ],
      "metadata": {
        "colab": {
          "base_uri": "https://localhost:8080/"
        },
        "id": "oeWL2K2GoHvL",
        "outputId": "e4d515d5-48ac-487c-8691-ea90d79968a6"
      },
      "execution_count": null,
      "outputs": [
        {
          "output_type": "stream",
          "name": "stdout",
          "text": [
            "{'name': 'Bob', 'city': 'New york'}\n"
          ]
        }
      ]
    },
    {
      "cell_type": "code",
      "source": [
        "'''\n",
        "25. Write a code to check if the key \"city\" exists in the dictionary {'name': 'Alice', 'city': 'Paris'}.\n",
        "'''\n",
        "#create the dicitionary\n",
        "dicitionary= {\"name\":\"Alice\", \"city\": \"paris\"}\n",
        "\n",
        "#check if 'city' exists\n",
        "if 'city' in dicitionary:\n",
        "  print(\"city exists in the dictionary\")\n",
        "else:\n",
        "    print(\"city not exits in the dicitionary\")"
      ],
      "metadata": {
        "colab": {
          "base_uri": "https://localhost:8080/"
        },
        "id": "DN9nCbm1p4c3",
        "outputId": "47beea52-f9ba-41de-a3c5-5ecf954fb403"
      },
      "execution_count": null,
      "outputs": [
        {
          "output_type": "stream",
          "name": "stdout",
          "text": [
            "city exists in the dictionary\n"
          ]
        }
      ]
    },
    {
      "cell_type": "code",
      "source": [
        "'''\n",
        "26. Write a code to create a list, a tuple, and a dictionary, and print them all.\n",
        "'''\n",
        "\n",
        "#create the list\n",
        "my_list = [100,200,300,400]\n",
        "\n",
        "#create tuple\n",
        "my_tuple = (\"potato\", \"tomato\", \"chilli\")\n",
        "\n",
        "#create dicitionary\n",
        "my_dict = {\"name\": \"Bob\",\"age\":24,\"city\":\"Delhi\"}\n",
        "\n",
        "Print(\"list:\",my_list)\n",
        "print(\"tuple:\",my_tuple)\n",
        "print(\"dicitionary:\",my_dict)\n"
      ],
      "metadata": {
        "colab": {
          "base_uri": "https://localhost:8080/"
        },
        "id": "-tUpmmHVsBBr",
        "outputId": "b9cc0185-26b6-49dc-9a10-680be0e164dc"
      },
      "execution_count": null,
      "outputs": [
        {
          "output_type": "stream",
          "name": "stdout",
          "text": [
            "list: [100, 200, 300, 400]\n",
            "tuple: ('potato', 'tomato', 'chilli')\n",
            "dicitionary: {'name': 'Bob', 'age': 24, 'city': 'Delhi'}\n"
          ]
        }
      ]
    },
    {
      "cell_type": "markdown",
      "source": [],
      "metadata": {
        "id": "DSJtramUvt2C"
      }
    },
    {
      "cell_type": "code",
      "source": [
        "'''\n",
        "27. Write a code to create a list of 5 random numbers between 1 and 100, sort it in ascending order, and print the\n",
        "result.(replaced)\n",
        "\n",
        "'''\n",
        "import random\n",
        "\n",
        "# Create a list of 5 random numbers between 1 and 100\n",
        "random_list = [random.randint(1, 100) for _ in range(5)]\n",
        "\n",
        "# Sort the list in ascending order\n",
        "random_list.sort()\n",
        "\n",
        "# Print the result\n",
        "print(\"Sorted list:\", random_list)\n"
      ],
      "metadata": {
        "id": "zq67_F3Vvvns",
        "colab": {
          "base_uri": "https://localhost:8080/"
        },
        "outputId": "b0c4a1e3-4b58-4d06-f1c5-c153b120cb19"
      },
      "execution_count": null,
      "outputs": [
        {
          "output_type": "stream",
          "name": "stdout",
          "text": [
            "Sorted list: [21, 26, 33, 65, 89]\n"
          ]
        }
      ]
    },
    {
      "cell_type": "code",
      "source": [
        "'''\n",
        "28. Write a code to create a list with strings and print the element at the third index\n",
        "'''\n",
        "\n",
        "#create the list with strings\n",
        "fruits = [\"apple\", \"banana\",\"grapes\",\"kiwi\",\"orange\"]\n",
        "\n",
        "#print\n",
        "print(\"element at the third index:\",fruits[3])\n"
      ],
      "metadata": {
        "colab": {
          "base_uri": "https://localhost:8080/"
        },
        "id": "a2608I3f3nHV",
        "outputId": "855ab7f4-9bf6-49dc-ab22-293631f07b0e"
      },
      "execution_count": null,
      "outputs": [
        {
          "output_type": "stream",
          "name": "stdout",
          "text": [
            "element at the third index: kiwi\n"
          ]
        }
      ]
    },
    {
      "cell_type": "code",
      "source": [
        "'''\n",
        "29. Write a code to combine two dictionaries into one and print the result.\n",
        "'''\n",
        "#Define dicitiories\n",
        "dict1 = {\"name\": \"weber\",\"age\":43}\n",
        "dict2 = {\"city\":\"hyd\",\"address\": \"Gandhi colony\"}\n",
        "\n",
        "#combine dictinaries\n",
        "combined_dict = {**dict1,**dict2}\n",
        "\n",
        "#print\n",
        "print(\"combined dictionary:\",combined_dict)\n"
      ],
      "metadata": {
        "colab": {
          "base_uri": "https://localhost:8080/"
        },
        "id": "NOQy6FDc45ze",
        "outputId": "8642607b-b92e-4021-bbaa-566c0f516205"
      },
      "execution_count": null,
      "outputs": [
        {
          "output_type": "stream",
          "name": "stdout",
          "text": [
            "combined dictionary: {'name': 'weber', 'age': 43, 'city': 'hyd', 'address': 'Gandhi colony'}\n"
          ]
        }
      ]
    },
    {
      "cell_type": "code",
      "source": [
        "'''\n",
        "30. Write a code to convert a list of strings into a set.\n",
        "'''\n",
        "#create a list of strings\n",
        "string_list = [\"apple\",\"banana\",\"orange\",\"grapes\"]\n",
        "\n",
        "#convert list into string\n",
        "string_set = set(string_list)\n",
        "\n",
        "#print\n",
        "print(\"set of strings:\",string_list)"
      ],
      "metadata": {
        "colab": {
          "base_uri": "https://localhost:8080/"
        },
        "id": "iBPYwnMe6Tg6",
        "outputId": "7bc03687-4ebf-479f-a657-82a12268c3be"
      },
      "execution_count": null,
      "outputs": [
        {
          "output_type": "stream",
          "name": "stdout",
          "text": [
            "set of strings: ['apple', 'banana', 'orange', 'grapes']\n"
          ]
        }
      ]
    }
  ]
}